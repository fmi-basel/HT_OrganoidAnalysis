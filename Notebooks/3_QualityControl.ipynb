{
 "cells": [
  {
   "cell_type": "markdown",
   "id": "351d6cae-a728-49fa-9f10-af70aec53440",
   "metadata": {},
   "source": [
    "# Imports"
   ]
  },
  {
   "cell_type": "code",
   "execution_count": null,
   "id": "0cda8c0a-27f8-41dd-9825-b5fccb2ff685",
   "metadata": {},
   "outputs": [],
   "source": [
    "import os\n",
    "import anndata\n",
    "import seaborn as sns\n",
    "from sklearn import preprocessing\n",
    "\n",
    "from Functions import get_folder_names, CalculateOutgrowth, transform_features, plate_bias_overview, save_adata"
   ]
  },
  {
   "cell_type": "markdown",
   "id": "979ffb80-548c-41a1-b931-519fbf181768",
   "metadata": {},
   "source": [
    "# User Input"
   ]
  },
  {
   "cell_type": "code",
   "execution_count": null,
   "id": "9119fecf-9d3d-4fd2-9d8a-e492cb2feaf5",
   "metadata": {},
   "outputs": [],
   "source": [
    "load_dir = \"/Your/Absolute/Path\"\n",
    "save_dir = os.path.join(os.path.sep,*get_folder_names(load_dir)[:-1]) # Does not have to be changed if working with folder setup from Feature Extraction script\n",
    "plot_save_dir = save_dir.replace(\"2_Results\",\"3_Plots\") # Does not have to be changed if working with folder setup from Feature Extraction script\n",
    "\n",
    "# Set up plotting parameters\n",
    "fig_param = {\"axes.spines.right\": False,\n",
    "                  \"axes.spines.top\": False,\n",
    "                  \"axes.spines.left\": True,\n",
    "                  \"axes.spines.bottom\": True,\n",
    "                  \"pdf.fonttype\": 42,\n",
    "                  \"font.size\": 6,\n",
    "                  \"axes.labelsize\": 6,\n",
    "                  \"axes.titlesize\": 8,\n",
    "                  \"xtick.labelsize\": 6,\n",
    "                  \"ytick.labelsize\": 6,\n",
    "                  \"legend.fontsize\": 6}\n",
    "\n",
    "sns.set_theme(rc = fig_param, style = \"ticks\")"
   ]
  },
  {
   "cell_type": "markdown",
   "id": "977f1a01-ce3c-43ad-a6ee-f7f43889928f",
   "metadata": {},
   "source": [
    "# Load & misc"
   ]
  },
  {
   "cell_type": "code",
   "execution_count": null,
   "id": "f97e7574-eff9-46ad-bdfa-22cf9cf1d100",
   "metadata": {},
   "outputs": [],
   "source": [
    "ad = anndata.read_h5ad(load_dir)\n",
    "\n",
    "# Apply MinMax scaling and save into \"minmax\" layer\n",
    "ad.layers[\"minmax\"] = preprocessing.MinMaxScaler().fit_transform(ad.X)"
   ]
  },
  {
   "cell_type": "markdown",
   "id": "d9733fef-504c-4b95-85cd-c07b0fcf5ac7",
   "metadata": {},
   "source": [
    "# Calculate outgrowth\n",
    "Calculates the outgrowth information per well by taking all indicated wells in the .xls setup file into account, even if no organoids are detected during the segmentation."
   ]
  },
  {
   "cell_type": "code",
   "execution_count": null,
   "id": "5103e434-ef1e-40b1-8bf3-67323762e526",
   "metadata": {},
   "outputs": [],
   "source": [
    "ad = CalculateOutgrowth(ad = ad)"
   ]
  },
  {
   "cell_type": "markdown",
   "id": "c4c17700-41ec-4a45-aa7b-9587bd3d91d8",
   "metadata": {},
   "source": [
    "# log1p transformation of area-associated features\n",
    "Perform log1p transformation on a subset of area-associated features in the AnnData object and visualize the results."
   ]
  },
  {
   "cell_type": "code",
   "execution_count": null,
   "id": "190af2df-c3bb-4c22-a9e1-55282be0b233",
   "metadata": {
    "tags": []
   },
   "outputs": [],
   "source": [
    "ad = transform_features(ad = ad,\n",
    "                   control_medium = \"Ctrl\", #Str used for control conditions in \"Medium\" tab of .xls setup file\n",
    "                   plot_save_dir = plot_save_dir,\n",
    "                   save_plot = True # Set to True to save plot\n",
    "                  )"
   ]
  },
  {
   "cell_type": "markdown",
   "id": "a86b6486-5d6c-4185-88b1-4f4907e443b6",
   "metadata": {},
   "source": [
    "# Plate overview to check for positional bias\n",
    "Generate heatmaps illustrating plate bias based on specified features and experimental conditions. Values are z-scores of well averages normalized within conditions."
   ]
  },
  {
   "cell_type": "code",
   "execution_count": null,
   "id": "d1cf3827-b118-42ec-bd99-c540714cc0c2",
   "metadata": {},
   "outputs": [],
   "source": [
    "plate_bias_overview(plt_features = [\"area\", \"circularity\"], \n",
    "                    ad = ad,\n",
    "                    plate_size = 384 # 384 or 96 plate setup\n",
    "                   )"
   ]
  },
  {
   "cell_type": "markdown",
   "id": "f2348d9d-2b41-46f0-a5cb-82c8537f5abb",
   "metadata": {},
   "source": [
    "# Save AD"
   ]
  },
  {
   "cell_type": "code",
   "execution_count": null,
   "id": "e37c137e-c6c0-4be8-81c8-fed871b5db2f",
   "metadata": {},
   "outputs": [],
   "source": [
    "save_adata(save_dir, \"3_QC\", ad)"
   ]
  }
 ],
 "metadata": {
  "kernelspec": {
   "display_name": "ToShare",
   "language": "python",
   "name": "toshare"
  },
  "language_info": {
   "codemirror_mode": {
    "name": "ipython",
    "version": 3
   },
   "file_extension": ".py",
   "mimetype": "text/x-python",
   "name": "python",
   "nbconvert_exporter": "python",
   "pygments_lexer": "ipython3",
   "version": "3.11.3"
  }
 },
 "nbformat": 4,
 "nbformat_minor": 5
}
