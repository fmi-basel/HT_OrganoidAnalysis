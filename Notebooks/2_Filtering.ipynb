{
 "cells": [
  {
   "cell_type": "markdown",
   "id": "e493c335-5f00-45c0-b571-7074a09edcf6",
   "metadata": {},
   "source": [
    "# Imports"
   ]
  },
  {
   "cell_type": "code",
   "execution_count": null,
   "id": "9939eeee-1010-46fd-8643-3830e3fb87c8",
   "metadata": {},
   "outputs": [],
   "source": [
    "import os\n",
    "import anndata\n",
    "import pandas as pd\n",
    "from Functions import get_folder_names, save_after_filtering, plot_random_organoids, filter_organoids_by"
   ]
  },
  {
   "cell_type": "markdown",
   "id": "b3c11e8a-4b87-4a82-a372-fc1bb31c29a3",
   "metadata": {},
   "source": [
    "# User Input"
   ]
  },
  {
   "cell_type": "code",
   "execution_count": null,
   "id": "beb62724-dbf9-4948-a2ef-7fc21ae3dcb7",
   "metadata": {},
   "outputs": [],
   "source": [
    "load_dir = \"/Your/Absolute/Path\"\n",
    "\n",
    "save_dir = os.path.join(os.path.sep,*get_folder_names(load_dir)[:-1])"
   ]
  },
  {
   "cell_type": "markdown",
   "id": "f2e2c5d9-a114-4ecf-bc16-4750b978aac9",
   "metadata": {},
   "source": [
    "# Load"
   ]
  },
  {
   "cell_type": "code",
   "execution_count": null,
   "id": "711a9bd4-4afc-47ba-a8f7-57a77d528d3e",
   "metadata": {},
   "outputs": [],
   "source": [
    "ad_raw = anndata.read_h5ad(load_dir)\n",
    "df_raw = pd.concat([ad_raw.to_df(), ad_raw.obs.astype(str)], axis = 1)"
   ]
  },
  {
   "cell_type": "markdown",
   "id": "141cec5f-b642-442e-80cd-3903fc730d3c",
   "metadata": {},
   "source": [
    "# Filter\n",
    "A variety of filter functions are examplified below. They filter objects based on a specified numerical feature range and visualize the removed organoids. To not overwrite an existing DataFrame, save the filtered DataFrame with a new name.    "
   ]
  },
  {
   "cell_type": "markdown",
   "id": "58d9815d-cf8c-47fb-8855-7ef5c9f7c0b1",
   "metadata": {},
   "source": [
    "### Cut organoids\n",
    "Filters objects which are not completely imaged based on the fraction of the longest straight edge in the image. "
   ]
  },
  {
   "cell_type": "code",
   "execution_count": null,
   "id": "4f44fcfd-0190-431e-bc51-e9eaf268a9a9",
   "metadata": {
    "tags": []
   },
   "outputs": [],
   "source": [
    "df_filt1 = filter_organoids_by(\n",
    "                    df = df_raw,\n",
    "                    feature = \"HighestBoundaryFraction\", # Name of the numerical feature to filter.\n",
    "                    values = (0, 0.4) # Tuple containing two numerical values representing the lower and upper bounds for filtering.\n",
    "                    )"
   ]
  },
  {
   "cell_type": "markdown",
   "id": "e09fc76a-d273-4266-b804-20aa0fc08421",
   "metadata": {},
   "source": [
    "### Low DAPI brightness"
   ]
  },
  {
   "cell_type": "code",
   "execution_count": null,
   "id": "81e82f3b-95e8-4cb8-a2e3-7621cdca09e5",
   "metadata": {},
   "outputs": [],
   "source": [
    "df_filt2 = filter_organoids_by(\n",
    "                    df = df_filt1,\n",
    "                    feature = \"DAPI_mean\", # Name of the numerical feature to filter.\n",
    "                    values = (2000, 99999) # Tuple containing two numerical values representing the lower and upper bounds for filtering.\n",
    "                    )"
   ]
  },
  {
   "cell_type": "markdown",
   "id": "a1bb8922-bb08-4372-83ec-6052282dfe55",
   "metadata": {},
   "source": [
    "### Low size"
   ]
  },
  {
   "cell_type": "code",
   "execution_count": null,
   "id": "3a105715-003e-44e4-b4c5-da7033cf920a",
   "metadata": {},
   "outputs": [],
   "source": [
    "df = filter_organoids_by(\n",
    "                    df = df_filt2,\n",
    "                    feature = \"area\", # Name of the numerical feature to filter.\n",
    "                    values = (300, 99999) # Tuple containing two numerical values representing the lower and upper bounds for filtering.\n",
    "                    )"
   ]
  },
  {
   "cell_type": "markdown",
   "id": "deb0ec9f-c8c6-468a-88a6-b4a5dfe3a3ab",
   "metadata": {},
   "source": [
    "### Sample of remaining organoids"
   ]
  },
  {
   "cell_type": "code",
   "execution_count": null,
   "id": "e85fcdd3-f6e3-4a3b-a1ba-c63b61a45ef9",
   "metadata": {},
   "outputs": [],
   "source": [
    "fig = plot_random_organoids(df_raw = df_raw,\n",
    "                            df = df,\n",
    "                            feature = \"crypt_count\", #Feature to display in title below unique ID\n",
    "                            rows = 10,\n",
    "                            cols = 10, \n",
    "                            seed = 0)"
   ]
  },
  {
   "cell_type": "markdown",
   "id": "30c5a649-e8cf-4c34-86b1-e45f47e7a395",
   "metadata": {},
   "source": [
    "# Save DF/AD"
   ]
  },
  {
   "cell_type": "code",
   "execution_count": null,
   "id": "4872afdc-a3f5-47d7-bd5a-a5d60e5074ac",
   "metadata": {},
   "outputs": [],
   "source": [
    "save_after_filtering(save_dir = save_dir,\n",
    "                     df = df,\n",
    "                     df_raw = df_raw,\n",
    "                     ad_raw = ad_raw)"
   ]
  }
 ],
 "metadata": {
  "kernelspec": {
   "display_name": "ToShare",
   "language": "python",
   "name": "toshare"
  },
  "language_info": {
   "codemirror_mode": {
    "name": "ipython",
    "version": 3
   },
   "file_extension": ".py",
   "mimetype": "text/x-python",
   "name": "python",
   "nbconvert_exporter": "python",
   "pygments_lexer": "ipython3",
   "version": "3.11.3"
  }
 },
 "nbformat": 4,
 "nbformat_minor": 5
}
