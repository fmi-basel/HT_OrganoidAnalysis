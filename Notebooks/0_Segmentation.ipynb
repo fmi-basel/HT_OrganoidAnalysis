{
 "cells": [
  {
   "cell_type": "code",
   "execution_count": null,
   "id": "e786391b-de13-4308-87f4-d6e334c690a5",
   "metadata": {},
   "outputs": [],
   "source": [
    "from Functions import bin_img, load_FilesModel, test_segmentation, segmentation"
   ]
  },
  {
   "cell_type": "markdown",
   "id": "98ef4c3b-f605-4c07-8235-545691572607",
   "metadata": {},
   "source": [
    "## User Input"
   ]
  },
  {
   "cell_type": "code",
   "execution_count": null,
   "id": "7d4b467c-2ff2-4342-b76a-581d3720b8ec",
   "metadata": {},
   "outputs": [],
   "source": [
    "# Link to CellPose model\n",
    "model_path = \"/Your/Absolute/Path\"\n",
    "\n",
    "# Point to folder containing maximum-intensity-projection (MIP) files\n",
    "file_path = \"/Your/Absolute/Path\" \n",
    "\n",
    "# Name of output folder\n",
    "output_folder = \"/Your/Absolute/Path\"\n",
    "\n",
    "segmentation_channel = \"Z01C01\" # Unique identifier in filename for segmentation channel\n",
    "n_bin = 4 # Set binning factor for faster processing and reduced GPU load. Typically, set to 4 for 20x, 8 for 40x, 12 for 60x. Set to 0 to deactivate. Images are upscaled again before being saved.\n",
    "\n",
    "\n",
    "### CellPose parameters\n",
    "flow_threshold = 0.4 # CellPose parameter. See CellPose documentation for further information.\n",
    "cellprob_threshold = 0 # CellPose parameter. See CellPose documentation for further information.\n",
    "diameter = 0 # Enter the approximate object diameter in px. Set to 0 for automatic detection. CellPose parameter. See CellPose documentation for further information."
   ]
  },
  {
   "cell_type": "markdown",
   "id": "bde5076f-767e-419e-bb00-becfa6f6bc38",
   "metadata": {},
   "source": [
    "## Load Model"
   ]
  },
  {
   "cell_type": "code",
   "execution_count": null,
   "id": "4618bb81-03d2-439d-8d78-04a076124967",
   "metadata": {},
   "outputs": [],
   "source": [
    "files, model = load_FilesModel(file_path = file_path,\n",
    "                               segmentation_channel = segmentation_channel, \n",
    "                               model_path = model_path)"
   ]
  },
  {
   "cell_type": "markdown",
   "id": "f9c4f0c9-fbe0-48d4-ab61-8b8a783d6c49",
   "metadata": {},
   "source": [
    "## Test segmentation\n",
    "\n",
    "Loads n randomly chosen test images from file_path and runs CellPose with previously set parameters on them. Displays results in a Napari Vieweer window."
   ]
  },
  {
   "cell_type": "code",
   "execution_count": null,
   "id": "2ceb9474-a539-4c1c-8b15-0738353b5f12",
   "metadata": {},
   "outputs": [],
   "source": [
    "test_segmentation(files = files, \n",
    "                  model = model, \n",
    "                  n = 3, \n",
    "                  n_bin = n_bin, \n",
    "                  flow_threshold = flow_threshold,\n",
    "                  cellprob_threshold = cellprob_threshold,\n",
    "                  diameter = diameter)"
   ]
  },
  {
   "cell_type": "markdown",
   "id": "81add3b4-a1fa-40df-b9db-700e087c932a",
   "metadata": {},
   "source": [
    "## Segmentation\n",
    "\n",
    "Runs CellPose segmentation on all files of the segmentation_channel with previously set parameters. Saves results into output_path."
   ]
  },
  {
   "cell_type": "code",
   "execution_count": null,
   "id": "be05a350-7b97-4bdb-9a55-077473d5bb19",
   "metadata": {},
   "outputs": [],
   "source": [
    "segmentation(files = files, \n",
    "              model = model, \n",
    "              n = 10, \n",
    "              n_bin = n_bin, \n",
    "              flow_threshold = flow_threshold,\n",
    "              cellprob_threshold = cellprob_threshold,\n",
    "              diameter = diameter,\n",
    "              output_folder = output_folder)"
   ]
  }
 ],
 "metadata": {
  "kernelspec": {
   "display_name": "Python 3 (ipykernel)",
   "language": "python",
   "name": "python3"
  },
  "language_info": {
   "codemirror_mode": {
    "name": "ipython",
    "version": 3
   },
   "file_extension": ".py",
   "mimetype": "text/x-python",
   "name": "python",
   "nbconvert_exporter": "python",
   "pygments_lexer": "ipython3",
   "version": "3.9.7"
  }
 },
 "nbformat": 4,
 "nbformat_minor": 5
}
