{
 "cells": [
  {
   "cell_type": "markdown",
   "id": "b19cade5-c037-4bce-ae8f-5f94610879cb",
   "metadata": {},
   "source": [
    "# Imports"
   ]
  },
  {
   "cell_type": "code",
   "execution_count": null,
   "id": "724ddb58-6de6-479e-91aa-9267864d1357",
   "metadata": {},
   "outputs": [],
   "source": [
    "import os\n",
    "import anndata\n",
    "import seaborn as sns\n",
    "from sklearn import preprocessing\n",
    "from Functions import run_phenograph, get_folder_names, ad_dimred_setup, test_UMAP_parameters, plot_umap, plot_random_organoids_cluster, run_slingshot, save_adata"
   ]
  },
  {
   "cell_type": "markdown",
   "id": "f238cf31-b209-4d71-ba13-85c9b8cd367e",
   "metadata": {},
   "source": [
    "# User input"
   ]
  },
  {
   "cell_type": "code",
   "execution_count": null,
   "id": "60ceee2e-a15a-47eb-8b2f-2353fcbae433",
   "metadata": {},
   "outputs": [],
   "source": [
    "load_dir = \"/Your/Absolute/Path\"\n",
    "save_dir = os.path.join(os.path.sep,*get_folder_names(load_dir)[:-1])\n",
    "plot_save_dir = save_dir.replace(\"2_Results\",\"3_Plots\")\n",
    "\n",
    "remove_features = [\"DAPI\"] # Remove all common features with input str in their name for dimension reduction\n",
    "\n",
    "# Set up plotting parameters\n",
    "fig_param = {\"axes.spines.right\": False,\n",
    "                  \"axes.spines.top\": False,\n",
    "                  \"axes.spines.left\": True,\n",
    "                  \"axes.spines.bottom\": True,\n",
    "                  \"pdf.fonttype\": 42,\n",
    "                  \"font.size\": 6,\n",
    "                  \"axes.labelsize\": 6,\n",
    "                  \"axes.titlesize\": 8,\n",
    "                  \"xtick.labelsize\": 6,\n",
    "                  \"ytick.labelsize\": 6,\n",
    "                  \"legend.fontsize\": 6}\n",
    "\n",
    "sns.set_theme(rc = fig_param, style = \"ticks\")\n",
    "\n",
    "# Color palette for time course experiments\n",
    "palette_tc = {\n",
    "     'Day 1':\"#009392\",\n",
    "     'Day 2':\"#26A789\",\n",
    "     'Day 3':\"#5AB985\",\n",
    "     'Day 4':\"#9CCB86\",\n",
    "     'Day 5':\"#CFDA94\",\n",
    "     'Day 6':\"#EAD290\",\n",
    "     'Day 7':\"#EEB479\", \n",
    "     'Day 8':\"#EA9473\",\n",
    "     'Day 9':\"#DF7575\",\n",
    "     'Day 10':\"#CF597E\"\n",
    "               }"
   ]
  },
  {
   "cell_type": "markdown",
   "id": "fc67814f-440a-47d2-8d94-41c3783051f1",
   "metadata": {},
   "source": [
    "# Load & misc\n",
    "Loads AnnData object and sets up an AnnData object for dimensionality reduction based on common features across all organoids not part of remove_features"
   ]
  },
  {
   "cell_type": "code",
   "execution_count": null,
   "id": "f9230f1a-9b66-46ae-99a5-b183d6bbf6ad",
   "metadata": {},
   "outputs": [],
   "source": [
    "ad = anndata.read_h5ad(load_dir)\n",
    "\n",
    "ad, ad_dimred = ad_dimred_setup(ad = ad,\n",
    "                                remove_features = remove_features # List of keywords to be removed from features\n",
    "                               )"
   ]
  },
  {
   "cell_type": "markdown",
   "id": "b9a95944-9a93-4b32-8405-740e0bd8d412",
   "metadata": {},
   "source": [
    "# UMAP"
   ]
  },
  {
   "cell_type": "markdown",
   "id": "dfa139ae-9bdd-405f-99fa-34da284ea10a",
   "metadata": {},
   "source": [
    "### UMAP parameter testing\n",
    "Test UMAP parameters for various combinations of n_neighbors and min_distances."
   ]
  },
  {
   "cell_type": "code",
   "execution_count": null,
   "id": "ac53c7b8-519d-46cf-80e2-64819943587d",
   "metadata": {},
   "outputs": [],
   "source": [
    "ad = test_UMAP_parameters(ad = ad,\n",
    "                          ad_dimred = ad_dimred,\n",
    "                          feature_to_plot = \"Other\", # Feature to use as hue for UMAP visualization\n",
    "                          plot_save_dir = plot_save_dir,\n",
    "                          neighbors = [50, 100], # List of neighbor values to test. See UMAP package for further details\n",
    "                          distances = [0.05, 0.10, 0.20, 0.30], # List of distance values to test. See UMAP package for further details\n",
    "                          save_plot = True)"
   ]
  },
  {
   "cell_type": "markdown",
   "id": "964cc675-0954-42ab-9bda-dae29c347d4d",
   "metadata": {},
   "source": [
    "### Plot UMAP\n",
    "Plot UMAP for selected features."
   ]
  },
  {
   "cell_type": "code",
   "execution_count": null,
   "id": "9a5f8a84-5868-4f36-8c77-9eb55756f529",
   "metadata": {},
   "outputs": [],
   "source": [
    "ad = plot_umap(ad = ad,\n",
    "          ad_dimred = ad_dimred,\n",
    "          plot_feat = [\"Other\", \"DAPI_mean\", \"area\"], # List of features to use as hue for UMAP visualization\n",
    "          n_neighbors = 50, # Integer of neighbor parameter. See UMAP package for further details\n",
    "          min_dist = 0.05, # Float of min_dist parameter. See UMAP package for further details\n",
    "          plot_save_dir = plot_save_dir,\n",
    "          save_plot = True)"
   ]
  },
  {
   "cell_type": "markdown",
   "id": "f4163172-b674-4573-aa4c-68928069b58e",
   "metadata": {},
   "source": [
    "# Clustering"
   ]
  },
  {
   "cell_type": "markdown",
   "id": "0ba6a0f7-7685-4bd7-b536-6c6c773ab8c3",
   "metadata": {},
   "source": [
    "### Phenograph\n",
    "Run PhenoGraph clustering on minmax normalized and log1p-transformed data."
   ]
  },
  {
   "cell_type": "code",
   "execution_count": null,
   "id": "730144cf-b6e8-4994-b886-b2ae2672fe57",
   "metadata": {},
   "outputs": [],
   "source": [
    "run_phenograph(ad = ad,\n",
    "               ad_dimred = ad_dimred,\n",
    "               k = 5, # Integer for number of nearest neighbors.\n",
    "               plot_save_dir = plot_save_dir,\n",
    "               save_plot = True)"
   ]
  },
  {
   "cell_type": "markdown",
   "id": "55f20357-7cb9-4d64-9539-2e98a95ca066",
   "metadata": {},
   "source": [
    "### Plot n random organoids per cluster\n",
    "Plot n_organoids random organoids for each PhenoGraph cluster."
   ]
  },
  {
   "cell_type": "code",
   "execution_count": null,
   "id": "d4a294c0-4860-4ce6-aa62-401b0dc8db76",
   "metadata": {},
   "outputs": [],
   "source": [
    "plot_random_organoids_cluster(ad = ad,\n",
    "                              n_organoids = 10, # Number of randomly selected organoids to visualize. If greater than number of organoids within that cluster, organoids are resampled.\n",
    "                              plot_save_dir = plot_save_dir,\n",
    "                              seed = 0,\n",
    "                              save_plot = False)"
   ]
  },
  {
   "cell_type": "markdown",
   "id": "815641a1-c89b-4bfe-a31f-2b3ccf02c29b",
   "metadata": {},
   "source": [
    "# Pseudotime\n",
    "Run Slingshot analysis for trajectory inference."
   ]
  },
  {
   "cell_type": "code",
   "execution_count": null,
   "id": "a794bbed-646c-4b04-bae3-9704a08b9656",
   "metadata": {},
   "outputs": [],
   "source": [
    "slingshot_object = run_slingshot(ad = ad,\n",
    "                                 start_cluster = 5, # Cluster name as a starting node for trajectory inference.\n",
    "                                 num_epochs = 3, # Number of iterations\n",
    "                                 plot_save_dir = plot_save_dir,\n",
    "                                 save_plot = False)"
   ]
  },
  {
   "cell_type": "markdown",
   "id": "0951b389-81a4-489d-97d8-fda2fb6f4c28",
   "metadata": {},
   "source": [
    "# Save AD"
   ]
  },
  {
   "cell_type": "code",
   "execution_count": null,
   "id": "d81b72c3-91e1-487f-b706-07923e439a5f",
   "metadata": {},
   "outputs": [],
   "source": [
    "# Save Slingshot results to AnnData object\n",
    "ad.obs[\"Pseudotime\"] = preprocessing.MinMaxScaler().fit_transform(slingshot_object.unified_pseudotime.reshape(-1, 1))\n",
    "for lin in range(len(slingshot_object.lineages)):\n",
    "    ad.obs[\"slingshot_weight_lineage_\"+str(lin)]= [x[lin]for x in slingshot_object.cell_weights]\n",
    "\n",
    "# Save AnnData object\n",
    "save_adata(save_dir, \"5_Pseudotime\", ad)"
   ]
  }
 ],
 "metadata": {
  "kernelspec": {
   "display_name": "ToShare",
   "language": "python",
   "name": "toshare"
  },
  "language_info": {
   "codemirror_mode": {
    "name": "ipython",
    "version": 3
   },
   "file_extension": ".py",
   "mimetype": "text/x-python",
   "name": "python",
   "nbconvert_exporter": "python",
   "pygments_lexer": "ipython3",
   "version": "3.11.3"
  }
 },
 "nbformat": 4,
 "nbformat_minor": 5
}
