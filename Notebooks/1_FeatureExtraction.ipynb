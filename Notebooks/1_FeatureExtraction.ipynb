{
 "cells": [
  {
   "cell_type": "markdown",
   "id": "e9c3187a-dbc8-40ea-8abb-3084f908b6d3",
   "metadata": {},
   "source": [
    "# Imports"
   ]
  },
  {
   "cell_type": "code",
   "execution_count": null,
   "id": "c392ee71-9975-43dd-ac7f-c93ff648ad48",
   "metadata": {
    "tags": []
   },
   "outputs": [],
   "source": [
    "from Functions import make_experiment, estimate_staining_thresholds, test_skeletonization, extract_features, threshold_change, plot_thresholds"
   ]
  },
  {
   "cell_type": "markdown",
   "id": "4735bf18-fbcc-4170-ab66-fa7e7274420c",
   "metadata": {},
   "source": [
    "# User Input"
   ]
  },
  {
   "cell_type": "markdown",
   "id": "e6076366-5e8c-47b6-9350-125f189c65b1",
   "metadata": {},
   "source": [
    "### General Settings\n",
    "\n",
    "Provide information regarding directories, used barcodes, and define the file name for results.\n",
    "Setup .xls file must be in source folder. See GitHub readme for more information."
   ]
  },
  {
   "cell_type": "code",
   "execution_count": null,
   "id": "d2a1e059-b048-4860-b0a7-54a62e730925",
   "metadata": {
    "tags": []
   },
   "outputs": [],
   "source": [
    "# Point to experiment folder. Has to include setup .xls file.\n",
    "source = \"/Your/Absolute/Path\"\n",
    "\n",
    "# Analysis directory. If not present will automatically create 4 folder substructure for standardization in subsequent notebooks.\n",
    "analysis_dir = \"/Your/Absolute/Path\"\n",
    "\n",
    "# Point to individual folders relative of the \"source\" folder for extracted organoid files from individual imaged microscopy plates. See GitHub readme for more information.\n",
    "folder =[\"Relative/Path1\", \"Relative/Path2\"]\n",
    "\n",
    "# List of used Barcodes, unique for imaged microscopy plates. List must have the same length and order as \"folder\" structure. Barcodes must be the same as in .xls setup file name. See GitHub readme for more information.\n",
    "barcodes = [\"201013MK001EB\", \"201013MK002EB\"]\n",
    "\n",
    "result_file_name = \"1_FE_Results\" # Filename for results file. Will be augmented by date and time of saving."
   ]
  },
  {
   "cell_type": "markdown",
   "id": "961410b6-1810-4e6a-8083-18e263ea9b66",
   "metadata": {},
   "source": [
    "### Measurement settings"
   ]
  },
  {
   "cell_type": "code",
   "execution_count": null,
   "id": "fec70f3b-809c-4d6f-bfa1-a445ee2e2866",
   "metadata": {},
   "outputs": [],
   "source": [
    "# Antibody information. Will be used to name features in resulting .csv and AnnData file.\n",
    "## Syntax: \"Name_AntibodyMix\" : [\"Staining Ch1\", \"Staining Ch2\", \"Staining Ch3\", \"Staining Ch4\"]\n",
    "stainings = {\n",
    "            \"AB1\": [\"DAPI\", \"pSRC\", \"MUC2\", \"FABP1\"],\n",
    "            \"AB2\": [\"DAPI\", \"AQP5\", \"CLDN2\", \"FABP1\"],\n",
    "            }\n",
    "\n",
    "quantiles_to_calc = [0.25, 0.50, 0.75, 0.99] # List of quantiled to be calculated during feature extraction for every staining.\n",
    "\n",
    "pixel_spacing = 0.325 # Pixel spacing in µm\n",
    "\n",
    "step_distance = 50 # Distance in µm of slicing subsections in organoid crypts."
   ]
  },
  {
   "cell_type": "markdown",
   "id": "0eccb0a8-612e-42bf-b9f9-4cc2fb57583f",
   "metadata": {},
   "source": [
    "# Load and display experimental setup\n",
    "Loads information from .xls setup files to subsequently link them to features of extracted organoids. Will display setup of all found imaging plates, with each well showing information regarding its conditions in the format of [Medium condition, used antibody mix, used cell line, additional condition]"
   ]
  },
  {
   "cell_type": "code",
   "execution_count": null,
   "id": "ba487d8b-fe64-499b-989a-9fe3725e9325",
   "metadata": {
    "tags": []
   },
   "outputs": [],
   "source": [
    "experiment_setup = make_experiment(source, barcodes)"
   ]
  },
  {
   "cell_type": "markdown",
   "id": "99659481-e21f-40cd-a7a3-dcf9fd563ec2",
   "metadata": {},
   "source": [
    "# Estimate thresholds"
   ]
  },
  {
   "cell_type": "markdown",
   "id": "3ffa9937-c49c-4e10-8f33-efd55b01bb8e",
   "metadata": {},
   "source": [
    "### Automatic estimation\n",
    "Estimates thresholds in time course experiments automatically by picking 0 random organoids per timepoint (stored in \"Other\" in the .xls setup file) within the control_condition for all stainings. Subsequently runs a triangle-segmentation on each picked organoid and returns the quantile (q) of this list. Thresholds can be changed by hand subsequently if not fitting."
   ]
  },
  {
   "cell_type": "code",
   "execution_count": null,
   "id": "de2eec57-9ab8-4be1-9ddd-c3f4630798e0",
   "metadata": {
    "tags": []
   },
   "outputs": [],
   "source": [
    "thresholds, dict_org, timepoints_lst = estimate_staining_thresholds(source = source, \n",
    "                                                                    folder = folder, \n",
    "                                                                    stainings = stainings, \n",
    "                                                                    experiment_setup = experiment_setup, \n",
    "                                                                    control_condition = \"None\", # Must be key in Medium tab of .xls setup file. Set to \"None\" if not applicable. \n",
    "                                                                    n = 20, # Number of organodis picked randomly per timepoint\n",
    "                                                                    seed = 0, # Random seed\n",
    "                                                                    sigma = 1, # Sigma for gaussian blurring\n",
    "                                                                    q = 0.5 # Quantile used to pick final threshold\n",
    "                                                                   )"
   ]
  },
  {
   "cell_type": "markdown",
   "id": "36a46161-d07f-49d1-9dd5-9834287d431b",
   "metadata": {},
   "source": [
    "### Manual change\n",
    "Optional manual change of non-fitting automatic thresholds."
   ]
  },
  {
   "cell_type": "code",
   "execution_count": null,
   "id": "d9419c0b-f936-4582-abf7-684b99348865",
   "metadata": {},
   "outputs": [],
   "source": [
    "thresholds = threshold_change(threshold = thresholds,\n",
    "                              staining = \"DAPI\", # Staining to change\n",
    "                              new_threshold = 800 # Integer of new threshold\n",
    "                             )"
   ]
  },
  {
   "cell_type": "markdown",
   "id": "cac00032-12c7-4713-b09b-0b99c264633b",
   "metadata": {},
   "source": [
    "### Test thresholds\n",
    "Plots the distribution of thresholds found per stainings, we well as the currently used threshold in an kdeplot. Additionally, depicts one random organoid per staining and timepoint with the set threshold as a minimum value."
   ]
  },
  {
   "cell_type": "code",
   "execution_count": null,
   "id": "e67baa68-13f8-42dc-92af-378b267f5c12",
   "metadata": {},
   "outputs": [],
   "source": [
    "fig = plot_thresholds(thresholds = thresholds, \n",
    "                      dict_org = dict_org, \n",
    "                      timepoints_lst = timepoints_lst)"
   ]
  },
  {
   "cell_type": "markdown",
   "id": "19ae59b2-7f3b-4858-b59d-8eac387d34b3",
   "metadata": {},
   "source": [
    "# Test of crypt features extraction\n",
    "\n",
    "Used to test parameters important to extract crypt features, such as sigm_skeleton, n_angle_determination, and radius_multiplier. Set parameters will be used in a subsequent step for feature extraction. Will show found crypts as well as an approximate for the non-crpyt region marked by a circle on n random organoids per plate."
   ]
  },
  {
   "cell_type": "code",
   "execution_count": null,
   "id": "f43d2fc7-c45b-43b1-9d52-c40dcd9af1b6",
   "metadata": {
    "tags": []
   },
   "outputs": [],
   "source": [
    "sigma_skeleton = 3 # Integer. Sigma for gaussian blurring of mask before skeletonization. Sharp segmentation edges may lead to difficulties, necessating higher sigma_skeleton numbers.\n",
    "n_angle_determination = 50 # Integer. Number of pixel used at the end of each branch to estimate its direction until the segmentation border. If the number is higher than the length of the branch, the whole branch will be used instead.\n",
    "radius_multiplier = 0.5 # Float. Multiplier of maximum-inscribed-circle radius to estimate crypt-free region. The lower the number, the more sensititve the algorithm is to smaller crypts.\n",
    "\n",
    "test_skeletonization(folder, \n",
    "                     source, \n",
    "                     barcodes, \n",
    "                     pixel_spacing, \n",
    "                     n = 10, # Integer. Number of randomly chosen organoids per imaging plate.\n",
    "                     seed = 0, # Integer. Random seed. \n",
    "                     sigma_skeleton = sigma_skeleton, \n",
    "                     n_angle_determination = n_angle_determination, \n",
    "                     radius_multiplier = radius_multiplier\n",
    "                    )"
   ]
  },
  {
   "cell_type": "markdown",
   "id": "e91bfaa4-5ab6-4a0b-a43e-13a50b09f568",
   "metadata": {},
   "source": [
    "# Extract Features\n",
    "\n",
    "Function extracts morphological and staining features from all segmented organoids within the source+folder structure. Results will be saved in an .csv and .h5ad file in the analysis_dir+\"2_Results\"+result_file_name. .h5ad output of this function should be used as an input for the subsequent notebook \"2_Filtering\". "
   ]
  },
  {
   "cell_type": "code",
   "execution_count": null,
   "id": "de94d608-448d-4e2f-a94b-fa48af002a4b",
   "metadata": {
    "tags": []
   },
   "outputs": [],
   "source": [
    "extract_features(source = source,\n",
    "                 folder = folder,\n",
    "                 analysis_dir = analysis_dir,\n",
    "                 barcodes = barcodes,\n",
    "                 experiment_setup = experiment_setup,\n",
    "                 thresholds = thresholds,\n",
    "                 stainings = stainings,\n",
    "                 result_file_name = result_file_name,\n",
    "                 radius_multiplier = radius_multiplier,\n",
    "                 pixel_spacing = pixel_spacing,\n",
    "                 sigma_skeleton = sigma_skeleton,\n",
    "                 quantiles_to_calc = quantiles_to_calc)"
   ]
  }
 ],
 "metadata": {
  "kernelspec": {
   "display_name": "ToShare",
   "language": "python",
   "name": "toshare"
  },
  "language_info": {
   "codemirror_mode": {
    "name": "ipython",
    "version": 3
   },
   "file_extension": ".py",
   "mimetype": "text/x-python",
   "name": "python",
   "nbconvert_exporter": "python",
   "pygments_lexer": "ipython3",
   "version": "3.11.3"
  },
  "toc-autonumbering": false,
  "toc-showmarkdowntxt": false
 },
 "nbformat": 4,
 "nbformat_minor": 5
}
